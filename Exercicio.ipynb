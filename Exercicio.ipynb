{
  "nbformat": 4,
  "nbformat_minor": 0,
  "metadata": {
    "colab": {
      "provenance": []
    },
    "kernelspec": {
      "name": "python3",
      "display_name": "Python 3"
    },
    "language_info": {
      "name": "python"
    }
  },
  "cells": [
    {
      "cell_type": "code",
      "execution_count": 10,
      "metadata": {
        "id": "RV7gNdu_WHzp"
      },
      "outputs": [],
      "source": [
        "# A atividade deverá ser realizada em um novo arquivo do Google Colab.\n",
        "# Com o arquivo csv que você pesquisou, execute as seguintes atividades:\n",
        "\n",
        "# https://www.kaggle.com/datasets/nelgiriyewithana/top-spotify-songs-2023?resource=download\n",
        "\n",
        "# 1 - Inicie o ambiente Spark através da biblioteca pyspark e crie o objeto spark para manipulação dos dados.\n",
        "\n",
        "# 2 – Altere o nome de pelo menos duas colunas de seu Data Frame.\n",
        "\n",
        "# 3 – Converta o tipo de dados de alguma coluna de sua escolha: Pode ser uma conversão para float, int ou date.\n",
        "\n",
        "# 4 – Realize 3 consultas através da função pyspark.sql. Pelo menos uma das consultas deve conter alguma função de agregação: count(), sum(), avg(), etc.\n",
        "# Descreva qual o tipo de análise você fará no Data Frame e depois exiba o código em Python com o resultado da análise.\n",
        "\n",
        "# 5 – Com alguma das consultas da atividade 3 crie um novo DataFrame e salve-o em formato .csv e em formato .orc."
      ]
    },
    {
      "cell_type": "code",
      "source": [
        "# 1. Iniciando ambiente spark\n",
        "!pip install pyspark\n",
        "from pyspark.sql import SparkSession\n",
        "from pyspark.sql import functions as f\n",
        "\n",
        "# Criando o objeto spark\n",
        "spark = SparkSession.builder.appName(\"Most Streamed Spotify Songs 2023\").getOrCreate()\n"
      ],
      "metadata": {
        "colab": {
          "base_uri": "https://localhost:8080/"
        },
        "id": "E0uIPecLWLLM",
        "outputId": "02194893-1362-4982-8267-382a8fcd7c89"
      },
      "execution_count": 11,
      "outputs": [
        {
          "output_type": "stream",
          "name": "stdout",
          "text": [
            "Requirement already satisfied: pyspark in /usr/local/lib/python3.10/dist-packages (3.5.0)\n",
            "Requirement already satisfied: py4j==0.10.9.7 in /usr/local/lib/python3.10/dist-packages (from pyspark) (0.10.9.7)\n"
          ]
        }
      ]
    },
    {
      "cell_type": "code",
      "source": [
        "# 2. Alterando o nome de duas colunas do Data Frame.\n",
        "\n",
        "# Importando arquivos para o spark\n",
        "url = \"/content/drive/MyDrive/Curso SENAI/Arquivo para Avaliação/Most Streamed Spotify Songs 2023/spotify-2023.csv/\"\n",
        "\n",
        "musicas = spark.read.options(header=True).csv(\n",
        "    url,\n",
        "    sep=\",\",\n",
        "    inferSchema=True\n",
        ")\n",
        "\n",
        "musicas = musicas.withColumnsRenamed({\n",
        "    \"track_name\":\"Titulo_Faixa\",\n",
        "    \"artist(s)_name\":\"Nome_Artista\",\n",
        "    \"released_year\": \"Ano_Lancamento\"})"
      ],
      "metadata": {
        "id": "0OpjasGxWRsF"
      },
      "execution_count": 18,
      "outputs": []
    },
    {
      "cell_type": "code",
      "source": [
        "# 3. Converta o tipo de dados de alguma coluna de sua escolha: Pode ser uma conversão para float, int ou date.\n",
        "\n",
        "musicas = musicas.withColumn(\"bpm\", musicas.bpm.cast(\"float\"))\n",
        "\n",
        "musicas.printSchema()"
      ],
      "metadata": {
        "id": "CkDGmzV-XuHQ",
        "colab": {
          "base_uri": "https://localhost:8080/"
        },
        "outputId": "671cd5ba-0f25-4e50-9d1e-b4c5f24123f7"
      },
      "execution_count": 20,
      "outputs": [
        {
          "output_type": "stream",
          "name": "stdout",
          "text": [
            "root\n",
            " |-- Titulo_Faixa: string (nullable = true)\n",
            " |-- Nome_Artista: string (nullable = true)\n",
            " |-- artist_count: integer (nullable = true)\n",
            " |-- Ano_Lancamento: integer (nullable = true)\n",
            " |-- released_month: integer (nullable = true)\n",
            " |-- released_day: integer (nullable = true)\n",
            " |-- in_spotify_playlists: integer (nullable = true)\n",
            " |-- in_spotify_charts: integer (nullable = true)\n",
            " |-- streams: string (nullable = true)\n",
            " |-- in_apple_playlists: integer (nullable = true)\n",
            " |-- in_apple_charts: integer (nullable = true)\n",
            " |-- in_deezer_playlists: string (nullable = true)\n",
            " |-- in_deezer_charts: integer (nullable = true)\n",
            " |-- in_shazam_charts: string (nullable = true)\n",
            " |-- bpm: float (nullable = true)\n",
            " |-- key: string (nullable = true)\n",
            " |-- mode: string (nullable = true)\n",
            " |-- danceability_%: integer (nullable = true)\n",
            " |-- valence_%: integer (nullable = true)\n",
            " |-- energy_%: integer (nullable = true)\n",
            " |-- acousticness_%: integer (nullable = true)\n",
            " |-- instrumentalness_%: integer (nullable = true)\n",
            " |-- liveness_%: integer (nullable = true)\n",
            " |-- speechiness_%: integer (nullable = true)\n",
            "\n"
          ]
        }
      ]
    },
    {
      "cell_type": "code",
      "source": [
        "# 4 – Realize 3 consultas através da função pyspark.sql. Pelo menos uma das consultas deve conter alguma função de agregação: count(), sum(), avg(), etc.\n",
        "# Descreva qual o tipo de análise você fará no Data Frame e depois exiba o código em Python com o resultado da análise.\n",
        "\n",
        "# Criando os views do DataFrame:\n",
        "musicas.createOrReplaceTempView(\"V_musicas\")\n",
        "\n",
        "# Usando a função spark.sql\n",
        "consulta_tabelas = spark.sql( \"\"\"\n",
        " SELECT * FROM V_musicas\n",
        "\"\"\"\n",
        ").show(3, False)\n",
        "\n",
        "# Contando a quatidade de artistas\n",
        "consulta_um = spark.sql( \"\"\"\n",
        " SELECT COUNT(*) Nome_Artista FROM V_musicas\n",
        "\"\"\"\n",
        ").show()\n",
        "\n",
        "# Média de batida por minuto (bpm)\n",
        "consulta_dois = spark.sql( \"\"\"\n",
        " SELECT AVG(bpm) AS media FROM V_musicas\n",
        "\"\"\"\n",
        ").show()\n",
        "\n",
        "# Musica mais reproduzida\n",
        "colsulta_tres = spark.sql( \"\"\"\n",
        "  SELECT MAX(Streams) AS Streams, Titulo_Faixa FROM V_musicas GROUP BY Titulo_Faixa\n",
        " \"\"\"\n",
        ").show(3, False)\n"
      ],
      "metadata": {
        "id": "VJBVBleZeSNn",
        "colab": {
          "base_uri": "https://localhost:8080/"
        },
        "outputId": "597726c4-41d6-4042-b3c8-7681a9392f44"
      },
      "execution_count": 21,
      "outputs": [
        {
          "output_type": "stream",
          "name": "stdout",
          "text": [
            "+-----------------------------------+----------------+------------+--------------+--------------+------------+--------------------+-----------------+---------+------------------+---------------+-------------------+----------------+----------------+-----+---+-----+--------------+---------+--------+--------------+------------------+----------+-------------+\n",
            "|Titulo_Faixa                       |Nome_Artista    |artist_count|Ano_Lancamento|released_month|released_day|in_spotify_playlists|in_spotify_charts|streams  |in_apple_playlists|in_apple_charts|in_deezer_playlists|in_deezer_charts|in_shazam_charts|bpm  |key|mode |danceability_%|valence_%|energy_%|acousticness_%|instrumentalness_%|liveness_%|speechiness_%|\n",
            "+-----------------------------------+----------------+------------+--------------+--------------+------------+--------------------+-----------------+---------+------------------+---------------+-------------------+----------------+----------------+-----+---+-----+--------------+---------+--------+--------------+------------------+----------+-------------+\n",
            "|Seven (feat. Latto) (Explicit Ver.)|Latto, Jung Kook|2           |2023          |7             |14          |553                 |147              |141381703|43                |263            |45                 |10              |826             |125.0|B  |Major|80            |89       |83      |31            |0                 |8         |4            |\n",
            "|LALA                               |Myke Towers     |1           |2023          |3             |23          |1474                |48               |133716286|48                |126            |58                 |14              |382             |92.0 |C# |Major|71            |61       |74      |7             |0                 |10        |4            |\n",
            "|vampire                            |Olivia Rodrigo  |1           |2023          |6             |30          |1397                |113              |140003974|94                |207            |91                 |14              |949             |138.0|F  |Major|51            |32       |53      |17            |0                 |31        |6            |\n",
            "+-----------------------------------+----------------+------------+--------------+--------------+------------+--------------------+-----------------+---------+------------------+---------------+-------------------+----------------+----------------+-----+---+-----+--------------+---------+--------+--------------+------------------+----------+-------------+\n",
            "only showing top 3 rows\n",
            "\n",
            "+------------+\n",
            "|Nome_Artista|\n",
            "+------------+\n",
            "|         953|\n",
            "+------------+\n",
            "\n",
            "+------------------+\n",
            "|             media|\n",
            "+------------------+\n",
            "|122.54039874081847|\n",
            "+------------------+\n",
            "\n",
            "+---------+-----------------------------------------+\n",
            "|Streams  |Titulo_Faixa                             |\n",
            "+---------+-----------------------------------------+\n",
            "|139836056|\"Apna Bana Le (From \"\"Bhediya\"\")\"        |\n",
            "|140187018|\"Besharam Rang (From \"\"Pathaan\"\")\"       |\n",
            "|97610446 |\"Come Back Home - From \"\"Purple Hearts\"\"\"|\n",
            "+---------+-----------------------------------------+\n",
            "only showing top 3 rows\n",
            "\n"
          ]
        }
      ]
    },
    {
      "cell_type": "code",
      "source": [
        "# 5. Com alguma das consultas da atividade 3 crie um novo DataFrame e salve-o em formato .csv e em formato .orc.\n",
        "\n",
        "# Criando novo data frame:\n",
        "novoDf = spark.sql( \"\"\"\n",
        "    SELECT * FROM V_musicas\n",
        "    \"\"\"\n",
        ")\n",
        "\n",
        "# Salvando data frame em formato .orc:\n",
        "url = \"/content/drive/MyDrive/Curso SENAI/Arquivo para Avaliação/Most Streamed Spotify Songs 2023/Arquivo em orc\"\n",
        "novoDf.coalesce(1).write.orc(\n",
        "    url,\n",
        "    mode=\"overwrite\"\n",
        ")\n",
        "\n",
        "# Salvando data frame em formato .orc:\n",
        "url = \"/content/drive/MyDrive/Curso SENAI/Arquivo para Avaliação/Most Streamed Spotify Songs 2023/Arquivo em csv\"\n",
        "novoDf.coalesce(1).write.csv(\n",
        "    url,\n",
        "    mode=\"overwrite\"\n",
        ")\n",
        "\n"
      ],
      "metadata": {
        "id": "yiEWXZVMrh9P"
      },
      "execution_count": 22,
      "outputs": []
    }
  ]
}